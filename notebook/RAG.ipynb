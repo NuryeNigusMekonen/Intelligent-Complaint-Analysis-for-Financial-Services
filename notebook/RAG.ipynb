{
 "cells": [
  {
   "cell_type": "markdown",
   "id": "838e6748",
   "metadata": {},
   "source": [
    "- Fine-tuning:\n",
    "Like training a new employee from scratch until they memorize your company's rules.\n",
    "- RAG:\n",
    "Like giving an employee a handbook and letting them look up answers whenever asked."
   ]
  },
  {
   "cell_type": "code",
   "execution_count": 1,
   "id": "c918592f",
   "metadata": {},
   "outputs": [],
   "source": [
    "import sys\n",
    "sys.path.append(\"..\") "
   ]
  },
  {
   "cell_type": "code",
   "execution_count": null,
   "id": "9972845b",
   "metadata": {},
   "outputs": [
    {
     "name": "stderr",
     "output_type": "stream",
     "text": [
      "Device set to use cuda:0\n"
     ]
    },
    {
     "name": "stdout",
     "output_type": "stream",
     "text": [
      "Chunks sample keys: dict_keys(['complaint_id', 'product', 'chunk_id', 'chunk_text'])\n",
      "Chunks sample content: {'complaint_id': 3729558, 'product': 'Credit card', 'chunk_id': 0, 'chunk_text': 'these past few months have been very difficult for everyone despite the fact that people are doing all they can to pay their monthly bills credit card companies are taking advantage of the situation to add late fees where it should be forbidden i paid mine late a few days late but i paid therefore when i requested there should be helping people when didnt want to remove my late fee even though i paid 10000 in interest this is racket credit card companies should be barred from assessing late fees in these times'}\n"
     ]
    },
    {
     "name": "stderr",
     "output_type": "stream",
     "text": [
      "Token indices sequence length is longer than the specified maximum sequence length for this model (557 > 512). Running this sequence through the model will result in indexing errors\n"
     ]
    },
    {
     "name": "stdout",
     "output_type": "stream",
     "text": [
      "Chunks sample keys: dict_keys(['complaint_id', 'product', 'chunk_id', 'chunk_text'])\n",
      "Chunks sample content: {'complaint_id': 7422836, 'product': 'Personal loan', 'chunk_id': 0, 'chunk_text': 'buy now pay later payment for one expense  affirm did not make reporting of any good standing loans to credit bureaus a part of the initial agreement agreement stated that late payments and defaults may be reported but there are no late payments company reported payment as an open installment loan account on xxxx credit report negatively affecting credit score and credit worthiness company refused to rectify issue ive used affirm 8 times previously with no reporting to credit bureaus agreement and loan reporting practices are intentionally deceptive and harmful'}\n",
      "Chunks sample keys: dict_keys(['complaint_id', 'product', 'chunk_id', 'chunk_text'])\n",
      "Chunks sample content: {'complaint_id': 4339332, 'product': 'Personal loan', 'chunk_id': 0, 'chunk_text': 'i never took out a student loan under my name xxxx xxxx'}\n",
      "Chunks sample keys: dict_keys(['complaint_id', 'product', 'chunk_id', 'chunk_text'])\n",
      "Chunks sample content: {'complaint_id': 10464495, 'product': 'Credit card', 'chunk_id': 0, 'chunk_text': 'prepaid cards do not work online or in store at any retailer whatsoever cards have not been used whatsoever and had purchases denied when attempted to use in person when contacting the company they have told me the cards were blocked or denied and sent new ones where the same thing has happened'}\n"
     ]
    },
    {
     "data": {
      "application/vnd.microsoft.datawrangler.viewer.v0+json": {
       "columns": [
        {
         "name": "index",
         "rawType": "int64",
         "type": "integer"
        },
        {
         "name": "Question",
         "rawType": "object",
         "type": "string"
        },
        {
         "name": "Answer",
         "rawType": "object",
         "type": "string"
        },
        {
         "name": "Top_1_Context",
         "rawType": "object",
         "type": "string"
        },
        {
         "name": "Score",
         "rawType": "object",
         "type": "string"
        },
        {
         "name": "Comment",
         "rawType": "object",
         "type": "string"
        }
       ],
       "ref": "c986151a-3374-40ba-9135-deefa2860343",
       "rows": [
        [
         "0",
         "How do customers feel about credit card late fees?",
         "I don't have enough information.",
         "these past few months have been very difficult for everyone despite the fact that people are doing all they can to pay their monthly bills credit card companies are taking advantage of the situation to add late fees where it should be forbidden i paid mine late a few days late but i paid therefore when i requested there should be helping people when didnt want to remove my late fee even though i paid 10000 in interest this is racket credit card companies should be barred from assessing late fees in these times...",
         "",
         ""
        ],
        [
         "1",
         "Are there complaints about buy now, pay later?",
         "Yes",
         "buy now pay later payment for one expense  affirm did not make reporting of any good standing loans to credit bureaus a part of the initial agreement agreement stated that late payments and defaults may be reported but there are no late payments company reported payment as an open installment loan account on xxxx credit report negatively affecting credit score and credit worthiness company refused to rectify issue ive used affirm 8 times previously with no reporting to credit bureaus agreement and loan reporting practices are intentionally deceptive and harmful...",
         "",
         ""
        ],
        [
         "2",
         "Is there dissatisfaction with student loans?",
         "I don't have enough information.",
         "i never took out a student loan under my name xxxx xxxx...",
         "",
         ""
        ],
        [
         "3",
         "What are the most common problems with prepaid cards?",
         "Do not work online or in store at any retailer whatsoever cards have not been used whatsoever and had purchases denied when attempted to use in person when contacting the company they have told me the cards were blocked or denied and sent new ones where the same thing has happened",
         "prepaid cards do not work online or in store at any retailer whatsoever cards have not been used whatsoever and had purchases denied when attempted to use in person when contacting the company they have told me the cards were blocked or denied and sent new ones where the same thing has happened...",
         "",
         ""
        ]
       ],
       "shape": {
        "columns": 5,
        "rows": 4
       }
      },
      "text/html": [
       "<div>\n",
       "<style scoped>\n",
       "    .dataframe tbody tr th:only-of-type {\n",
       "        vertical-align: middle;\n",
       "    }\n",
       "\n",
       "    .dataframe tbody tr th {\n",
       "        vertical-align: top;\n",
       "    }\n",
       "\n",
       "    .dataframe thead th {\n",
       "        text-align: right;\n",
       "    }\n",
       "</style>\n",
       "<table border=\"1\" class=\"dataframe\">\n",
       "  <thead>\n",
       "    <tr style=\"text-align: right;\">\n",
       "      <th></th>\n",
       "      <th>Question</th>\n",
       "      <th>Answer</th>\n",
       "      <th>Top_1_Context</th>\n",
       "      <th>Score</th>\n",
       "      <th>Comment</th>\n",
       "    </tr>\n",
       "  </thead>\n",
       "  <tbody>\n",
       "    <tr>\n",
       "      <th>0</th>\n",
       "      <td>How do customers feel about credit card late f...</td>\n",
       "      <td>I don't have enough information.</td>\n",
       "      <td>these past few months have been very difficult...</td>\n",
       "      <td></td>\n",
       "      <td></td>\n",
       "    </tr>\n",
       "    <tr>\n",
       "      <th>1</th>\n",
       "      <td>Are there complaints about buy now, pay later?</td>\n",
       "      <td>Yes</td>\n",
       "      <td>buy now pay later payment for one expense  aff...</td>\n",
       "      <td></td>\n",
       "      <td></td>\n",
       "    </tr>\n",
       "    <tr>\n",
       "      <th>2</th>\n",
       "      <td>Is there dissatisfaction with student loans?</td>\n",
       "      <td>I don't have enough information.</td>\n",
       "      <td>i never took out a student loan under my name ...</td>\n",
       "      <td></td>\n",
       "      <td></td>\n",
       "    </tr>\n",
       "    <tr>\n",
       "      <th>3</th>\n",
       "      <td>What are the most common problems with prepaid...</td>\n",
       "      <td>Do not work online or in store at any retailer...</td>\n",
       "      <td>prepaid cards do not work online or in store a...</td>\n",
       "      <td></td>\n",
       "      <td></td>\n",
       "    </tr>\n",
       "  </tbody>\n",
       "</table>\n",
       "</div>"
      ],
      "text/plain": [
       "                                            Question  \\\n",
       "0  How do customers feel about credit card late f...   \n",
       "1     Are there complaints about buy now, pay later?   \n",
       "2       Is there dissatisfaction with student loans?   \n",
       "3  What are the most common problems with prepaid...   \n",
       "\n",
       "                                              Answer  \\\n",
       "0                   I don't have enough information.   \n",
       "1                                                Yes   \n",
       "2                   I don't have enough information.   \n",
       "3  Do not work online or in store at any retailer...   \n",
       "\n",
       "                                       Top_1_Context Score Comment  \n",
       "0  these past few months have been very difficult...                \n",
       "1  buy now pay later payment for one expense  aff...                \n",
       "2  i never took out a student loan under my name ...                \n",
       "3  prepaid cards do not work online or in store a...                "
      ]
     },
     "execution_count": 2,
     "metadata": {},
     "output_type": "execute_result"
    }
   ],
   "source": [
    "import sys\n",
    "import os\n",
    "\n",
    "PROJECT_ROOT = os.path.abspath(os.path.join(os.getcwd(), '..'))\n",
    "\n",
    "# Add src folder to Python path for imports\n",
    "SRC_PATH = os.path.join(PROJECT_ROOT, 'src')\n",
    "if SRC_PATH not in sys.path:\n",
    "    sys.path.append(SRC_PATH)\n",
    "from src.evaluate_rag import evaluate_rag\n",
    "\n",
    "PROJECT_ROOT = os.path.abspath(\"..\")\n",
    "INDEX_PATH = os.path.join(PROJECT_ROOT, \"vector_store\", \"faiss_index.idx\")\n",
    "METADATA_PATH = os.path.join(PROJECT_ROOT, \"vector_store\", \"metadata.pkl\")\n",
    "\n",
    "sample_questions = [\n",
    "    \"How do customers feel about credit card late fees?\",\n",
    "    \"Are there complaints about buy now, pay later?\",\n",
    "    \"Is there dissatisfaction with student loans?\",\n",
    "    \"What are the most common problems with prepaid cards?\"\n",
    "]\n",
    "\n",
    "df_eval = evaluate_rag(sample_questions, INDEX_PATH, METADATA_PATH)\n",
    "df_eval.to_csv(os.path.join(PROJECT_ROOT, \"outputs\", \"evaluation_results.csv\"), index=False)\n",
    "df_eval.head()\n"
   ]
  },
  {
   "cell_type": "code",
   "execution_count": null,
   "id": "a4614165",
   "metadata": {},
   "outputs": [
    {
     "name": "stderr",
     "output_type": "stream",
     "text": [
      "Device set to use cuda:0\n"
     ]
    },
    {
     "name": "stdout",
     "output_type": "stream",
     "text": [
      "Chunks sample keys: dict_keys(['complaint_id', 'product', 'chunk_id', 'chunk_text'])\n",
      "Chunks sample content: {'complaint_id': 3729558, 'product': 'Credit card', 'chunk_id': 0, 'chunk_text': 'these past few months have been very difficult for everyone despite the fact that people are doing all they can to pay their monthly bills credit card companies are taking advantage of the situation to add late fees where it should be forbidden i paid mine late a few days late but i paid therefore when i requested there should be helping people when didnt want to remove my late fee even though i paid 10000 in interest this is racket credit card companies should be barred from assessing late fees in these times'}\n"
     ]
    },
    {
     "name": "stderr",
     "output_type": "stream",
     "text": [
      "Token indices sequence length is longer than the specified maximum sequence length for this model (557 > 512). Running this sequence through the model will result in indexing errors\n"
     ]
    },
    {
     "name": "stdout",
     "output_type": "stream",
     "text": [
      "Chunks sample keys: dict_keys(['complaint_id', 'product', 'chunk_id', 'chunk_text'])\n",
      "Chunks sample content: {'complaint_id': 7422836, 'product': 'Personal loan', 'chunk_id': 0, 'chunk_text': 'buy now pay later payment for one expense  affirm did not make reporting of any good standing loans to credit bureaus a part of the initial agreement agreement stated that late payments and defaults may be reported but there are no late payments company reported payment as an open installment loan account on xxxx credit report negatively affecting credit score and credit worthiness company refused to rectify issue ive used affirm 8 times previously with no reporting to credit bureaus agreement and loan reporting practices are intentionally deceptive and harmful'}\n",
      "Chunks sample keys: dict_keys(['complaint_id', 'product', 'chunk_id', 'chunk_text'])\n",
      "Chunks sample content: {'complaint_id': 4339332, 'product': 'Personal loan', 'chunk_id': 0, 'chunk_text': 'i never took out a student loan under my name xxxx xxxx'}\n",
      "Chunks sample keys: dict_keys(['complaint_id', 'product', 'chunk_id', 'chunk_text'])\n",
      "Chunks sample content: {'complaint_id': 10464495, 'product': 'Credit card', 'chunk_id': 0, 'chunk_text': 'prepaid cards do not work online or in store at any retailer whatsoever cards have not been used whatsoever and had purchases denied when attempted to use in person when contacting the company they have told me the cards were blocked or denied and sent new ones where the same thing has happened'}\n",
      " Markdown evaluation report saved to /home/nurye/Desktop/10_Academy/week_6/Intelligent-Complaint-Analysis-for-Financial-Services/outputs/evaluation_report.md\n",
      "                                            Question  \\\n",
      "0  How do customers feel about credit card late f...   \n",
      "1     Are there complaints about buy now, pay later?   \n",
      "2       Is there dissatisfaction with student loans?   \n",
      "3  What are the most common problems with prepaid...   \n",
      "\n",
      "                                              Answer  \\\n",
      "0                   I don't have enough information.   \n",
      "1                                                Yes   \n",
      "2                   I don't have enough information.   \n",
      "3  Do not work online or in store at any retailer...   \n",
      "\n",
      "                                       Top_1_Context Score Comment  \\\n",
      "0  these past few months have been very difficult...                 \n",
      "1  buy now pay later payment for one expense  aff...                 \n",
      "2  i never took out a student loan under my name ...                 \n",
      "3  prepaid cards do not work online or in store a...                 \n",
      "\n",
      "                                       Top_2_Context  \n",
      "0  i ve been issued a number of late fee that are...  \n",
      "1  there are still late payment remarks and updat...  \n",
      "2  took out a student loan for xxxx university in...  \n",
      "3  a prepaid card was issue in my name i never ap...  \n"
     ]
    }
   ],
   "source": [
    "from src.evaluate_and_report import evaluate_and_generate_report\n",
    "OUTPUT_PATH = os.path.join(PROJECT_ROOT, \"outputs\", \"evaluation_report.md\")\n",
    "# Run evaluation and generate markdown report\n",
    "df_results = evaluate_and_generate_report(\n",
    "    sample_questions, INDEX_PATH, METADATA_PATH, OUTPUT_PATH, top_k=5\n",
    ")\n",
    "print(df_results.head())"
   ]
  }
 ],
 "metadata": {
  "kernelspec": {
   "display_name": "CA-venv",
   "language": "python",
   "name": "python3"
  },
  "language_info": {
   "codemirror_mode": {
    "name": "ipython",
    "version": 3
   },
   "file_extension": ".py",
   "mimetype": "text/x-python",
   "name": "python",
   "nbconvert_exporter": "python",
   "pygments_lexer": "ipython3",
   "version": "3.10.18"
  }
 },
 "nbformat": 4,
 "nbformat_minor": 5
}
